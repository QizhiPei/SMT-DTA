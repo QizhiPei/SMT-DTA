{
 "cells": [
  {
   "cell_type": "code",
   "execution_count": 1,
   "metadata": {},
   "outputs": [],
   "source": [
    "import re\n",
    "from rdkit import Chem"
   ]
  },
  {
   "cell_type": "code",
   "execution_count": 2,
   "metadata": {},
   "outputs": [],
   "source": [
    "def add_space(pro):\n",
    "    return pro.replace('',' ').strip()"
   ]
  },
  {
   "cell_type": "code",
   "execution_count": 3,
   "metadata": {},
   "outputs": [],
   "source": [
    "def rm_map_number(smiles):\n",
    "    t = re.sub(':\\d*', '', smiles)\n",
    "    return t\n",
    "def canonicalize(smiles):\n",
    "    try:\n",
    "        smiles = rm_map_number(smiles)\n",
    "        mol = Chem.MolFromSmiles(smiles)\n",
    "        if mol is None:\n",
    "            return None\n",
    "        else:\n",
    "            return Chem.MolToSmiles(mol)\n",
    "    except:\n",
    "        return None"
   ]
  },
  {
   "cell_type": "code",
   "execution_count": 4,
   "metadata": {},
   "outputs": [],
   "source": [
    "def smi_tokenizer(smi):\n",
    "    pattern =  \"(\\[[^\\]]+]|Br?|Cl?|N|O|S|P|F|I|b|c|n|o|s|p|\\(|\\)|\\.|=|#|-|\\+|\\\\\\\\|\\/|:|~|@|\\?|>|\\*|\\$|\\%[0-9]{2}|[0-9])\"\n",
    "    regex = re.compile(pattern)\n",
    "    tokens = [token for token in regex.findall(smi)]\n",
    "    try:\n",
    "        assert re.sub('\\s+', '', smi) == ''.join(tokens)\n",
    "    except:\n",
    "        return ''\n",
    "\n",
    "    return ' '.join(tokens)"
   ]
  },
  {
   "cell_type": "code",
   "execution_count": 5,
   "metadata": {},
   "outputs": [
    {
     "data": {
      "text/plain": [
       "'CN1CCN(CCCN2c3ccccc3Sc3ccc(Cl)cc32)CC1'"
      ]
     },
     "execution_count": 5,
     "metadata": {},
     "output_type": "execute_result"
    }
   ],
   "source": [
    "smiles_raw = \"CN1CCN(CC1)CCCN2C3=CC=CC=C3SC4=C2C=C(C=C4)Cl\"\n",
    "smiles_can = canonicalize(smiles_raw)\n",
    "smiles_bpe = smi_tokenizer(smiles_can)\n",
    "smiles_can"
   ]
  },
  {
   "cell_type": "code",
   "execution_count": 81,
   "metadata": {},
   "outputs": [],
   "source": [
    "protein_0 = \"MFGLKRNAVIGLNLYCGGAGLGAGSGGATRPGGRLLATEKEASARREIGGGEAGAVIGGSAGASPPSTLTPDSRRVARPPPIGAEVPDVTATPARLLFFAPTRRAAPLEEMEAPAADAIMSPEEELDGYEPEPLGKRPAVLPLLELVGESGNNTSTDGSLPSTPPPAEEEEDELYRQSLEIISRYLREQATGAKDTKPMGRSGATSRKALETLRRVGDGVQRNHETAFQGMLRKLDIKNEDDVKSLSRVMIHVFSDGVTNWGRIVTLISFGAFVAKHLKTINQESCIEPLAESITDVLVRTKRDWLVKQRGWDGFVEFFHVEDLEGGIRNVLLAFAGVAGVGAGLAYLIR\"\n",
    "protein_1 = \"MSFLGFGGGQPQLSSQQKIQAAEAELDLVTDMFNKLVNNCYKKCINTSYSEGELNKNESSCLDRCVAKYFETNVQVGENMQKMGQSFNAAGKF\"\n",
    "protein_2 = \"MPTVDDILEQVGESGWFQKQAFLILCLLSAAFAPICVGIVFLGFTPDHHCQSPGVAELSQRCGWSPAEELNYTVPGLGPAGEAFLGQCRRYEVDWNQSALSCVDPLASLATNRSHLPLGPCQDGWVYDTPGSSIVTEFNLVCADSWKLDLFQSCLNAGFLFGSLGVGYFADRFGRKLCLLGTVLVNAVSGVLMAFSPNYMSMLLFRLLQGLVSKGNWMAGYTLITEFVGSGSRRTVAIMYQMAFTVGLVALTGLAYALPHWRWLQLAVSLPTFLFLLYYWCVPESPRWLLSQKRNTEAIKIMDHIAQKNGKLPPADLKMLSLEEDVTEKLSPSFADLFRTPRLRKRTFILMYLWFTDSVLYQGLILHMGATSGNLYLDFLYSALVEIPGAFIALITIDRVGRIYPMAMSNLLAGAACLVMIFISPDLHWLNIIIMCVGRMGITIAIQMICLVNAELYPTFVRNLGVMVCSSLCDIGGIITPFIVFRLREVWQALPLILFAVLGLLAAGVTLLLPETKGVALPETMKDAENLGRKAKPKENTIYLKVQTSEPSGT\""
   ]
  },
  {
   "cell_type": "code",
   "execution_count": 122,
   "metadata": {},
   "outputs": [
    {
     "data": {
      "text/plain": [
       "'M P T V D D I L E Q V G E S G W F Q K Q A F L I L C L L S A A F A P I C V G I V F L G F T P D H H C Q S P G V A E L S Q R C G W S P A E E L N Y T V P G L G P A G E A F L G Q C R R Y E V D W N Q S A L S C V D P L A S L A T N R S H L P L G P C Q D G W V Y D T P G S S I V T E F N L V C A D S W K L D L F Q S C L N A G F L F G S L G V G Y F A D R F G R K L C L L G T V L V N A V S G V L M A F S P N Y M S M L L F R L L Q G L V S K G N W M A G Y T L I T E F V G S G S R R T V A I M Y Q M A F T V G L V A L T G L A Y A L P H W R W L Q L A V S L P T F L F L L Y Y W C V P E S P R W L L S Q K R N T E A I K I M D H I A Q K N G K L P P A D L K M L S L E E D V T E K L S P S F A D L F R T P R L R K R T F I L M Y L W F T D S V L Y Q G L I L H M G A T S G N L Y L D F L Y S A L V E I P G A F I A L I T I D R V G R I Y P M A M S N L L A G A A C L V M I F I S P D L H W L N I I I M C V G R M G I T I A I Q M I C L V N A E L Y P T F V R N L G V M V C S S L C D I G G I I T P F I V F R L R E V W Q A L P L I L F A V L G L L A A G V T L L L P E T K G V A L P E T M K D A E N L G R K A K P K E N T I Y L K V Q T S E P S G T'"
      ]
     },
     "execution_count": 122,
     "metadata": {},
     "output_type": "execute_result"
    }
   ],
   "source": [
    "protein = add_space(protein_2)\n",
    "protein"
   ]
  },
  {
   "cell_type": "code",
   "execution_count": 83,
   "metadata": {},
   "outputs": [
    {
     "data": {
      "text/plain": [
       "RobertaHubInterface(\n",
       "  (model): RobertaDTIMLMRegressCaseStudy(\n",
       "    (encoder_0): DTIRobertaEncoder(\n",
       "      (sentence_encoder): TransformerSentenceEncoder(\n",
       "        (dropout_module): FairseqDropout()\n",
       "        (embed_tokens): Embedding(2353, 768, padding_idx=1)\n",
       "        (embed_positions): LearnedPositionalEmbedding(514, 768, padding_idx=1)\n",
       "        (layers): ModuleList(\n",
       "          (0): TransformerSentenceEncoderLayer(\n",
       "            (dropout_module): FairseqDropout()\n",
       "            (activation_dropout_module): FairseqDropout()\n",
       "            (self_attn): MultiheadAttention(\n",
       "              (dropout_module): FairseqDropout()\n",
       "              (k_proj): Linear(in_features=768, out_features=768, bias=True)\n",
       "              (v_proj): Linear(in_features=768, out_features=768, bias=True)\n",
       "              (q_proj): Linear(in_features=768, out_features=768, bias=True)\n",
       "              (out_proj): Linear(in_features=768, out_features=768, bias=True)\n",
       "            )\n",
       "            (self_attn_layer_norm): LayerNorm((768,), eps=1e-05, elementwise_affine=True)\n",
       "            (fc1): Linear(in_features=768, out_features=3072, bias=True)\n",
       "            (fc2): Linear(in_features=3072, out_features=768, bias=True)\n",
       "            (final_layer_norm): LayerNorm((768,), eps=1e-05, elementwise_affine=True)\n",
       "          )\n",
       "          (1): TransformerSentenceEncoderLayer(\n",
       "            (dropout_module): FairseqDropout()\n",
       "            (activation_dropout_module): FairseqDropout()\n",
       "            (self_attn): MultiheadAttention(\n",
       "              (dropout_module): FairseqDropout()\n",
       "              (k_proj): Linear(in_features=768, out_features=768, bias=True)\n",
       "              (v_proj): Linear(in_features=768, out_features=768, bias=True)\n",
       "              (q_proj): Linear(in_features=768, out_features=768, bias=True)\n",
       "              (out_proj): Linear(in_features=768, out_features=768, bias=True)\n",
       "            )\n",
       "            (self_attn_layer_norm): LayerNorm((768,), eps=1e-05, elementwise_affine=True)\n",
       "            (fc1): Linear(in_features=768, out_features=3072, bias=True)\n",
       "            (fc2): Linear(in_features=3072, out_features=768, bias=True)\n",
       "            (final_layer_norm): LayerNorm((768,), eps=1e-05, elementwise_affine=True)\n",
       "          )\n",
       "          (2): TransformerSentenceEncoderLayer(\n",
       "            (dropout_module): FairseqDropout()\n",
       "            (activation_dropout_module): FairseqDropout()\n",
       "            (self_attn): MultiheadAttention(\n",
       "              (dropout_module): FairseqDropout()\n",
       "              (k_proj): Linear(in_features=768, out_features=768, bias=True)\n",
       "              (v_proj): Linear(in_features=768, out_features=768, bias=True)\n",
       "              (q_proj): Linear(in_features=768, out_features=768, bias=True)\n",
       "              (out_proj): Linear(in_features=768, out_features=768, bias=True)\n",
       "            )\n",
       "            (self_attn_layer_norm): LayerNorm((768,), eps=1e-05, elementwise_affine=True)\n",
       "            (fc1): Linear(in_features=768, out_features=3072, bias=True)\n",
       "            (fc2): Linear(in_features=3072, out_features=768, bias=True)\n",
       "            (final_layer_norm): LayerNorm((768,), eps=1e-05, elementwise_affine=True)\n",
       "          )\n",
       "          (3): TransformerSentenceEncoderLayer(\n",
       "            (dropout_module): FairseqDropout()\n",
       "            (activation_dropout_module): FairseqDropout()\n",
       "            (self_attn): MultiheadAttention(\n",
       "              (dropout_module): FairseqDropout()\n",
       "              (k_proj): Linear(in_features=768, out_features=768, bias=True)\n",
       "              (v_proj): Linear(in_features=768, out_features=768, bias=True)\n",
       "              (q_proj): Linear(in_features=768, out_features=768, bias=True)\n",
       "              (out_proj): Linear(in_features=768, out_features=768, bias=True)\n",
       "            )\n",
       "            (self_attn_layer_norm): LayerNorm((768,), eps=1e-05, elementwise_affine=True)\n",
       "            (fc1): Linear(in_features=768, out_features=3072, bias=True)\n",
       "            (fc2): Linear(in_features=3072, out_features=768, bias=True)\n",
       "            (final_layer_norm): LayerNorm((768,), eps=1e-05, elementwise_affine=True)\n",
       "          )\n",
       "          (4): TransformerSentenceEncoderLayer(\n",
       "            (dropout_module): FairseqDropout()\n",
       "            (activation_dropout_module): FairseqDropout()\n",
       "            (self_attn): MultiheadAttention(\n",
       "              (dropout_module): FairseqDropout()\n",
       "              (k_proj): Linear(in_features=768, out_features=768, bias=True)\n",
       "              (v_proj): Linear(in_features=768, out_features=768, bias=True)\n",
       "              (q_proj): Linear(in_features=768, out_features=768, bias=True)\n",
       "              (out_proj): Linear(in_features=768, out_features=768, bias=True)\n",
       "            )\n",
       "            (self_attn_layer_norm): LayerNorm((768,), eps=1e-05, elementwise_affine=True)\n",
       "            (fc1): Linear(in_features=768, out_features=3072, bias=True)\n",
       "            (fc2): Linear(in_features=3072, out_features=768, bias=True)\n",
       "            (final_layer_norm): LayerNorm((768,), eps=1e-05, elementwise_affine=True)\n",
       "          )\n",
       "          (5): TransformerSentenceEncoderLayer(\n",
       "            (dropout_module): FairseqDropout()\n",
       "            (activation_dropout_module): FairseqDropout()\n",
       "            (self_attn): MultiheadAttention(\n",
       "              (dropout_module): FairseqDropout()\n",
       "              (k_proj): Linear(in_features=768, out_features=768, bias=True)\n",
       "              (v_proj): Linear(in_features=768, out_features=768, bias=True)\n",
       "              (q_proj): Linear(in_features=768, out_features=768, bias=True)\n",
       "              (out_proj): Linear(in_features=768, out_features=768, bias=True)\n",
       "            )\n",
       "            (self_attn_layer_norm): LayerNorm((768,), eps=1e-05, elementwise_affine=True)\n",
       "            (fc1): Linear(in_features=768, out_features=3072, bias=True)\n",
       "            (fc2): Linear(in_features=3072, out_features=768, bias=True)\n",
       "            (final_layer_norm): LayerNorm((768,), eps=1e-05, elementwise_affine=True)\n",
       "          )\n",
       "          (6): TransformerSentenceEncoderLayer(\n",
       "            (dropout_module): FairseqDropout()\n",
       "            (activation_dropout_module): FairseqDropout()\n",
       "            (self_attn): MultiheadAttention(\n",
       "              (dropout_module): FairseqDropout()\n",
       "              (k_proj): Linear(in_features=768, out_features=768, bias=True)\n",
       "              (v_proj): Linear(in_features=768, out_features=768, bias=True)\n",
       "              (q_proj): Linear(in_features=768, out_features=768, bias=True)\n",
       "              (out_proj): Linear(in_features=768, out_features=768, bias=True)\n",
       "            )\n",
       "            (self_attn_layer_norm): LayerNorm((768,), eps=1e-05, elementwise_affine=True)\n",
       "            (fc1): Linear(in_features=768, out_features=3072, bias=True)\n",
       "            (fc2): Linear(in_features=3072, out_features=768, bias=True)\n",
       "            (final_layer_norm): LayerNorm((768,), eps=1e-05, elementwise_affine=True)\n",
       "          )\n",
       "          (7): TransformerSentenceEncoderLayer(\n",
       "            (dropout_module): FairseqDropout()\n",
       "            (activation_dropout_module): FairseqDropout()\n",
       "            (self_attn): MultiheadAttention(\n",
       "              (dropout_module): FairseqDropout()\n",
       "              (k_proj): Linear(in_features=768, out_features=768, bias=True)\n",
       "              (v_proj): Linear(in_features=768, out_features=768, bias=True)\n",
       "              (q_proj): Linear(in_features=768, out_features=768, bias=True)\n",
       "              (out_proj): Linear(in_features=768, out_features=768, bias=True)\n",
       "            )\n",
       "            (self_attn_layer_norm): LayerNorm((768,), eps=1e-05, elementwise_affine=True)\n",
       "            (fc1): Linear(in_features=768, out_features=3072, bias=True)\n",
       "            (fc2): Linear(in_features=3072, out_features=768, bias=True)\n",
       "            (final_layer_norm): LayerNorm((768,), eps=1e-05, elementwise_affine=True)\n",
       "          )\n",
       "          (8): TransformerSentenceEncoderLayer(\n",
       "            (dropout_module): FairseqDropout()\n",
       "            (activation_dropout_module): FairseqDropout()\n",
       "            (self_attn): MultiheadAttention(\n",
       "              (dropout_module): FairseqDropout()\n",
       "              (k_proj): Linear(in_features=768, out_features=768, bias=True)\n",
       "              (v_proj): Linear(in_features=768, out_features=768, bias=True)\n",
       "              (q_proj): Linear(in_features=768, out_features=768, bias=True)\n",
       "              (out_proj): Linear(in_features=768, out_features=768, bias=True)\n",
       "            )\n",
       "            (self_attn_layer_norm): LayerNorm((768,), eps=1e-05, elementwise_affine=True)\n",
       "            (fc1): Linear(in_features=768, out_features=3072, bias=True)\n",
       "            (fc2): Linear(in_features=3072, out_features=768, bias=True)\n",
       "            (final_layer_norm): LayerNorm((768,), eps=1e-05, elementwise_affine=True)\n",
       "          )\n",
       "          (9): TransformerSentenceEncoderLayer(\n",
       "            (dropout_module): FairseqDropout()\n",
       "            (activation_dropout_module): FairseqDropout()\n",
       "            (self_attn): MultiheadAttention(\n",
       "              (dropout_module): FairseqDropout()\n",
       "              (k_proj): Linear(in_features=768, out_features=768, bias=True)\n",
       "              (v_proj): Linear(in_features=768, out_features=768, bias=True)\n",
       "              (q_proj): Linear(in_features=768, out_features=768, bias=True)\n",
       "              (out_proj): Linear(in_features=768, out_features=768, bias=True)\n",
       "            )\n",
       "            (self_attn_layer_norm): LayerNorm((768,), eps=1e-05, elementwise_affine=True)\n",
       "            (fc1): Linear(in_features=768, out_features=3072, bias=True)\n",
       "            (fc2): Linear(in_features=3072, out_features=768, bias=True)\n",
       "            (final_layer_norm): LayerNorm((768,), eps=1e-05, elementwise_affine=True)\n",
       "          )\n",
       "          (10): TransformerSentenceEncoderLayer(\n",
       "            (dropout_module): FairseqDropout()\n",
       "            (activation_dropout_module): FairseqDropout()\n",
       "            (self_attn): MultiheadAttention(\n",
       "              (dropout_module): FairseqDropout()\n",
       "              (k_proj): Linear(in_features=768, out_features=768, bias=True)\n",
       "              (v_proj): Linear(in_features=768, out_features=768, bias=True)\n",
       "              (q_proj): Linear(in_features=768, out_features=768, bias=True)\n",
       "              (out_proj): Linear(in_features=768, out_features=768, bias=True)\n",
       "            )\n",
       "            (self_attn_layer_norm): LayerNorm((768,), eps=1e-05, elementwise_affine=True)\n",
       "            (fc1): Linear(in_features=768, out_features=3072, bias=True)\n",
       "            (fc2): Linear(in_features=3072, out_features=768, bias=True)\n",
       "            (final_layer_norm): LayerNorm((768,), eps=1e-05, elementwise_affine=True)\n",
       "          )\n",
       "          (11): TransformerSentenceEncoderLayer(\n",
       "            (dropout_module): FairseqDropout()\n",
       "            (activation_dropout_module): FairseqDropout()\n",
       "            (self_attn): MultiheadAttention(\n",
       "              (dropout_module): FairseqDropout()\n",
       "              (k_proj): Linear(in_features=768, out_features=768, bias=True)\n",
       "              (v_proj): Linear(in_features=768, out_features=768, bias=True)\n",
       "              (q_proj): Linear(in_features=768, out_features=768, bias=True)\n",
       "              (out_proj): Linear(in_features=768, out_features=768, bias=True)\n",
       "            )\n",
       "            (self_attn_layer_norm): LayerNorm((768,), eps=1e-05, elementwise_affine=True)\n",
       "            (fc1): Linear(in_features=768, out_features=3072, bias=True)\n",
       "            (fc2): Linear(in_features=3072, out_features=768, bias=True)\n",
       "            (final_layer_norm): LayerNorm((768,), eps=1e-05, elementwise_affine=True)\n",
       "          )\n",
       "        )\n",
       "        (emb_layer_norm): LayerNorm((768,), eps=1e-05, elementwise_affine=True)\n",
       "      )\n",
       "      (lm_head): RobertaLMHead(\n",
       "        (dense): Linear(in_features=768, out_features=768, bias=True)\n",
       "        (layer_norm): LayerNorm((768,), eps=1e-05, elementwise_affine=True)\n",
       "      )\n",
       "    )\n",
       "    (encoder_1): DTIRobertaEncoder(\n",
       "      (sentence_encoder): TransformerSentenceEncoder(\n",
       "        (dropout_module): FairseqDropout()\n",
       "        (embed_tokens): Embedding(27, 768, padding_idx=1)\n",
       "        (embed_positions): LearnedPositionalEmbedding(1026, 768, padding_idx=1)\n",
       "        (layers): ModuleList(\n",
       "          (0): TransformerSentenceEncoderLayer(\n",
       "            (dropout_module): FairseqDropout()\n",
       "            (activation_dropout_module): FairseqDropout()\n",
       "            (self_attn): MultiheadAttention(\n",
       "              (dropout_module): FairseqDropout()\n",
       "              (k_proj): Linear(in_features=768, out_features=768, bias=True)\n",
       "              (v_proj): Linear(in_features=768, out_features=768, bias=True)\n",
       "              (q_proj): Linear(in_features=768, out_features=768, bias=True)\n",
       "              (out_proj): Linear(in_features=768, out_features=768, bias=True)\n",
       "            )\n",
       "            (self_attn_layer_norm): LayerNorm((768,), eps=1e-05, elementwise_affine=True)\n",
       "            (fc1): Linear(in_features=768, out_features=3072, bias=True)\n",
       "            (fc2): Linear(in_features=3072, out_features=768, bias=True)\n",
       "            (final_layer_norm): LayerNorm((768,), eps=1e-05, elementwise_affine=True)\n",
       "          )\n",
       "          (1): TransformerSentenceEncoderLayer(\n",
       "            (dropout_module): FairseqDropout()\n",
       "            (activation_dropout_module): FairseqDropout()\n",
       "            (self_attn): MultiheadAttention(\n",
       "              (dropout_module): FairseqDropout()\n",
       "              (k_proj): Linear(in_features=768, out_features=768, bias=True)\n",
       "              (v_proj): Linear(in_features=768, out_features=768, bias=True)\n",
       "              (q_proj): Linear(in_features=768, out_features=768, bias=True)\n",
       "              (out_proj): Linear(in_features=768, out_features=768, bias=True)\n",
       "            )\n",
       "            (self_attn_layer_norm): LayerNorm((768,), eps=1e-05, elementwise_affine=True)\n",
       "            (fc1): Linear(in_features=768, out_features=3072, bias=True)\n",
       "            (fc2): Linear(in_features=3072, out_features=768, bias=True)\n",
       "            (final_layer_norm): LayerNorm((768,), eps=1e-05, elementwise_affine=True)\n",
       "          )\n",
       "          (2): TransformerSentenceEncoderLayer(\n",
       "            (dropout_module): FairseqDropout()\n",
       "            (activation_dropout_module): FairseqDropout()\n",
       "            (self_attn): MultiheadAttention(\n",
       "              (dropout_module): FairseqDropout()\n",
       "              (k_proj): Linear(in_features=768, out_features=768, bias=True)\n",
       "              (v_proj): Linear(in_features=768, out_features=768, bias=True)\n",
       "              (q_proj): Linear(in_features=768, out_features=768, bias=True)\n",
       "              (out_proj): Linear(in_features=768, out_features=768, bias=True)\n",
       "            )\n",
       "            (self_attn_layer_norm): LayerNorm((768,), eps=1e-05, elementwise_affine=True)\n",
       "            (fc1): Linear(in_features=768, out_features=3072, bias=True)\n",
       "            (fc2): Linear(in_features=3072, out_features=768, bias=True)\n",
       "            (final_layer_norm): LayerNorm((768,), eps=1e-05, elementwise_affine=True)\n",
       "          )\n",
       "          (3): TransformerSentenceEncoderLayer(\n",
       "            (dropout_module): FairseqDropout()\n",
       "            (activation_dropout_module): FairseqDropout()\n",
       "            (self_attn): MultiheadAttention(\n",
       "              (dropout_module): FairseqDropout()\n",
       "              (k_proj): Linear(in_features=768, out_features=768, bias=True)\n",
       "              (v_proj): Linear(in_features=768, out_features=768, bias=True)\n",
       "              (q_proj): Linear(in_features=768, out_features=768, bias=True)\n",
       "              (out_proj): Linear(in_features=768, out_features=768, bias=True)\n",
       "            )\n",
       "            (self_attn_layer_norm): LayerNorm((768,), eps=1e-05, elementwise_affine=True)\n",
       "            (fc1): Linear(in_features=768, out_features=3072, bias=True)\n",
       "            (fc2): Linear(in_features=3072, out_features=768, bias=True)\n",
       "            (final_layer_norm): LayerNorm((768,), eps=1e-05, elementwise_affine=True)\n",
       "          )\n",
       "          (4): TransformerSentenceEncoderLayer(\n",
       "            (dropout_module): FairseqDropout()\n",
       "            (activation_dropout_module): FairseqDropout()\n",
       "            (self_attn): MultiheadAttention(\n",
       "              (dropout_module): FairseqDropout()\n",
       "              (k_proj): Linear(in_features=768, out_features=768, bias=True)\n",
       "              (v_proj): Linear(in_features=768, out_features=768, bias=True)\n",
       "              (q_proj): Linear(in_features=768, out_features=768, bias=True)\n",
       "              (out_proj): Linear(in_features=768, out_features=768, bias=True)\n",
       "            )\n",
       "            (self_attn_layer_norm): LayerNorm((768,), eps=1e-05, elementwise_affine=True)\n",
       "            (fc1): Linear(in_features=768, out_features=3072, bias=True)\n",
       "            (fc2): Linear(in_features=3072, out_features=768, bias=True)\n",
       "            (final_layer_norm): LayerNorm((768,), eps=1e-05, elementwise_affine=True)\n",
       "          )\n",
       "          (5): TransformerSentenceEncoderLayer(\n",
       "            (dropout_module): FairseqDropout()\n",
       "            (activation_dropout_module): FairseqDropout()\n",
       "            (self_attn): MultiheadAttention(\n",
       "              (dropout_module): FairseqDropout()\n",
       "              (k_proj): Linear(in_features=768, out_features=768, bias=True)\n",
       "              (v_proj): Linear(in_features=768, out_features=768, bias=True)\n",
       "              (q_proj): Linear(in_features=768, out_features=768, bias=True)\n",
       "              (out_proj): Linear(in_features=768, out_features=768, bias=True)\n",
       "            )\n",
       "            (self_attn_layer_norm): LayerNorm((768,), eps=1e-05, elementwise_affine=True)\n",
       "            (fc1): Linear(in_features=768, out_features=3072, bias=True)\n",
       "            (fc2): Linear(in_features=3072, out_features=768, bias=True)\n",
       "            (final_layer_norm): LayerNorm((768,), eps=1e-05, elementwise_affine=True)\n",
       "          )\n",
       "          (6): TransformerSentenceEncoderLayer(\n",
       "            (dropout_module): FairseqDropout()\n",
       "            (activation_dropout_module): FairseqDropout()\n",
       "            (self_attn): MultiheadAttention(\n",
       "              (dropout_module): FairseqDropout()\n",
       "              (k_proj): Linear(in_features=768, out_features=768, bias=True)\n",
       "              (v_proj): Linear(in_features=768, out_features=768, bias=True)\n",
       "              (q_proj): Linear(in_features=768, out_features=768, bias=True)\n",
       "              (out_proj): Linear(in_features=768, out_features=768, bias=True)\n",
       "            )\n",
       "            (self_attn_layer_norm): LayerNorm((768,), eps=1e-05, elementwise_affine=True)\n",
       "            (fc1): Linear(in_features=768, out_features=3072, bias=True)\n",
       "            (fc2): Linear(in_features=3072, out_features=768, bias=True)\n",
       "            (final_layer_norm): LayerNorm((768,), eps=1e-05, elementwise_affine=True)\n",
       "          )\n",
       "          (7): TransformerSentenceEncoderLayer(\n",
       "            (dropout_module): FairseqDropout()\n",
       "            (activation_dropout_module): FairseqDropout()\n",
       "            (self_attn): MultiheadAttention(\n",
       "              (dropout_module): FairseqDropout()\n",
       "              (k_proj): Linear(in_features=768, out_features=768, bias=True)\n",
       "              (v_proj): Linear(in_features=768, out_features=768, bias=True)\n",
       "              (q_proj): Linear(in_features=768, out_features=768, bias=True)\n",
       "              (out_proj): Linear(in_features=768, out_features=768, bias=True)\n",
       "            )\n",
       "            (self_attn_layer_norm): LayerNorm((768,), eps=1e-05, elementwise_affine=True)\n",
       "            (fc1): Linear(in_features=768, out_features=3072, bias=True)\n",
       "            (fc2): Linear(in_features=3072, out_features=768, bias=True)\n",
       "            (final_layer_norm): LayerNorm((768,), eps=1e-05, elementwise_affine=True)\n",
       "          )\n",
       "          (8): TransformerSentenceEncoderLayer(\n",
       "            (dropout_module): FairseqDropout()\n",
       "            (activation_dropout_module): FairseqDropout()\n",
       "            (self_attn): MultiheadAttention(\n",
       "              (dropout_module): FairseqDropout()\n",
       "              (k_proj): Linear(in_features=768, out_features=768, bias=True)\n",
       "              (v_proj): Linear(in_features=768, out_features=768, bias=True)\n",
       "              (q_proj): Linear(in_features=768, out_features=768, bias=True)\n",
       "              (out_proj): Linear(in_features=768, out_features=768, bias=True)\n",
       "            )\n",
       "            (self_attn_layer_norm): LayerNorm((768,), eps=1e-05, elementwise_affine=True)\n",
       "            (fc1): Linear(in_features=768, out_features=3072, bias=True)\n",
       "            (fc2): Linear(in_features=3072, out_features=768, bias=True)\n",
       "            (final_layer_norm): LayerNorm((768,), eps=1e-05, elementwise_affine=True)\n",
       "          )\n",
       "          (9): TransformerSentenceEncoderLayer(\n",
       "            (dropout_module): FairseqDropout()\n",
       "            (activation_dropout_module): FairseqDropout()\n",
       "            (self_attn): MultiheadAttention(\n",
       "              (dropout_module): FairseqDropout()\n",
       "              (k_proj): Linear(in_features=768, out_features=768, bias=True)\n",
       "              (v_proj): Linear(in_features=768, out_features=768, bias=True)\n",
       "              (q_proj): Linear(in_features=768, out_features=768, bias=True)\n",
       "              (out_proj): Linear(in_features=768, out_features=768, bias=True)\n",
       "            )\n",
       "            (self_attn_layer_norm): LayerNorm((768,), eps=1e-05, elementwise_affine=True)\n",
       "            (fc1): Linear(in_features=768, out_features=3072, bias=True)\n",
       "            (fc2): Linear(in_features=3072, out_features=768, bias=True)\n",
       "            (final_layer_norm): LayerNorm((768,), eps=1e-05, elementwise_affine=True)\n",
       "          )\n",
       "          (10): TransformerSentenceEncoderLayer(\n",
       "            (dropout_module): FairseqDropout()\n",
       "            (activation_dropout_module): FairseqDropout()\n",
       "            (self_attn): MultiheadAttention(\n",
       "              (dropout_module): FairseqDropout()\n",
       "              (k_proj): Linear(in_features=768, out_features=768, bias=True)\n",
       "              (v_proj): Linear(in_features=768, out_features=768, bias=True)\n",
       "              (q_proj): Linear(in_features=768, out_features=768, bias=True)\n",
       "              (out_proj): Linear(in_features=768, out_features=768, bias=True)\n",
       "            )\n",
       "            (self_attn_layer_norm): LayerNorm((768,), eps=1e-05, elementwise_affine=True)\n",
       "            (fc1): Linear(in_features=768, out_features=3072, bias=True)\n",
       "            (fc2): Linear(in_features=3072, out_features=768, bias=True)\n",
       "            (final_layer_norm): LayerNorm((768,), eps=1e-05, elementwise_affine=True)\n",
       "          )\n",
       "          (11): TransformerSentenceEncoderLayer(\n",
       "            (dropout_module): FairseqDropout()\n",
       "            (activation_dropout_module): FairseqDropout()\n",
       "            (self_attn): MultiheadAttention(\n",
       "              (dropout_module): FairseqDropout()\n",
       "              (k_proj): Linear(in_features=768, out_features=768, bias=True)\n",
       "              (v_proj): Linear(in_features=768, out_features=768, bias=True)\n",
       "              (q_proj): Linear(in_features=768, out_features=768, bias=True)\n",
       "              (out_proj): Linear(in_features=768, out_features=768, bias=True)\n",
       "            )\n",
       "            (self_attn_layer_norm): LayerNorm((768,), eps=1e-05, elementwise_affine=True)\n",
       "            (fc1): Linear(in_features=768, out_features=3072, bias=True)\n",
       "            (fc2): Linear(in_features=3072, out_features=768, bias=True)\n",
       "            (final_layer_norm): LayerNorm((768,), eps=1e-05, elementwise_affine=True)\n",
       "          )\n",
       "        )\n",
       "        (emb_layer_norm): LayerNorm((768,), eps=1e-05, elementwise_affine=True)\n",
       "      )\n",
       "      (lm_head): RobertaLMHead(\n",
       "        (dense): Linear(in_features=768, out_features=768, bias=True)\n",
       "        (layer_norm): LayerNorm((768,), eps=1e-05, elementwise_affine=True)\n",
       "      )\n",
       "    )\n",
       "    (classification_heads): ModuleDict(\n",
       "      (sentence_classification_head): RobertaClassificationHead(\n",
       "        (dense): Linear(in_features=1536, out_features=768, bias=True)\n",
       "        (dropout): Dropout(p=0.1, inplace=False)\n",
       "        (out_proj): Linear(in_features=768, out_features=1, bias=True)\n",
       "      )\n",
       "    )\n",
       "    (cross_attn): MultiheadAttention(\n",
       "      (dropout_module): FairseqDropout()\n",
       "      (k_proj): Linear(in_features=768, out_features=768, bias=True)\n",
       "      (v_proj): Linear(in_features=768, out_features=768, bias=True)\n",
       "      (q_proj): Linear(in_features=768, out_features=768, bias=True)\n",
       "      (out_proj): Linear(in_features=768, out_features=768, bias=True)\n",
       "    )\n",
       "  )\n",
       ")"
      ]
     },
     "execution_count": 83,
     "metadata": {},
     "output_type": "execute_result"
    }
   ],
   "source": [
    "from fairseq.models.roberta import RobertaModel\n",
    "import numpy as np\n",
    "roberta = RobertaModel.from_pretrained(\n",
    "    f'/protein/users/v-qizhipei/checkpoints/roberta_char_bsz256_nopretrain_separate_wd0.1_dp0.1_layer12_hongda_mlm_regression_cross_attn_mod_pad',\n",
    "    checkpoint_file=f'checkpoint154.pt',\n",
    "    data_name_or_path='/protein/users/v-qizhipei/data-bin/BindingDB_hongda_char_for_pretrain',\n",
    "    arch = 'roberta_dti_mlm_regress_case_study'\n",
    ")\n",
    "\n",
    "roberta.cuda()\n",
    "roberta.eval()"
   ]
  },
  {
   "cell_type": "code",
   "execution_count": 123,
   "metadata": {},
   "outputs": [
    {
     "data": {
      "text/plain": [
       "(tensor([[4.1925]], device='cuda:0', grad_fn=<AddmmBackward0>),\n",
       " tensor([[[2.1689e-03, 5.6051e-04, 2.0450e-03, 1.3709e-04, 1.0374e-04,\n",
       "           1.8629e-04, 3.0426e-04, 1.2341e-04, 1.1925e-04, 7.0735e-04,\n",
       "           4.2109e-02, 1.4311e-04, 1.5578e-04, 4.4794e-04, 2.1474e-04,\n",
       "           1.8459e-04, 2.7397e-03, 5.3591e-04, 2.0849e-03, 6.9185e-04,\n",
       "           2.6683e-03, 4.4569e-04, 1.2106e-04, 1.7166e-04, 1.7060e-04,\n",
       "           1.3391e-04, 9.9710e-04, 1.2828e-04, 1.5114e-04, 4.0354e-04,\n",
       "           1.5298e-04, 7.7665e-04, 3.0234e-04, 3.4401e-04, 2.3276e-02,\n",
       "           3.8810e-04, 1.5307e-03, 3.2583e-04, 5.1474e-04, 1.0005e-03,\n",
       "           2.4965e-04, 6.5911e-04, 1.5910e-04, 3.5057e-04, 2.7709e-04,\n",
       "           2.1268e-04, 2.0206e-03, 1.7493e-04, 4.2083e-04, 9.7706e-04,\n",
       "           1.6191e-03, 4.1048e-03, 9.5134e-04, 1.4357e-03, 3.6042e-04,\n",
       "           4.8639e-04, 4.1580e-04, 1.6575e-04, 1.8353e-04, 3.5478e-04,\n",
       "           5.8703e-03, 8.1221e-03, 7.0136e-04, 3.0203e-04, 7.5449e-03,\n",
       "           3.3944e-04, 1.4958e-02, 2.9088e-04, 2.3968e-04, 4.6664e-04,\n",
       "           6.9277e-04, 7.5878e-04, 1.0207e-03, 3.4253e-04, 2.8974e-04,\n",
       "           7.3189e-03, 1.1944e-04, 3.3022e-04, 2.0979e-04, 6.4633e-03,\n",
       "           5.3695e-04, 1.5811e-04, 1.2910e-04, 5.1773e-04, 2.4617e-04,\n",
       "           1.0913e-04, 2.6631e-04, 3.8398e-03, 4.7824e-03, 4.6925e-03,\n",
       "           3.8258e-04, 1.7221e-03, 3.7379e-04, 1.8423e-04, 3.0062e-04,\n",
       "           1.0099e-03, 4.6556e-04, 5.0547e-04, 1.0181e-03, 2.0708e-04,\n",
       "           7.6568e-05, 6.0921e-04, 3.0779e-03, 2.7865e-04, 2.0271e-04,\n",
       "           7.8518e-03, 2.9835e-04, 3.7556e-04, 1.4260e-03, 3.1779e-04,\n",
       "           3.1631e-04, 3.2317e-04, 3.2687e-03, 5.0736e-04, 4.8272e-04,\n",
       "           6.0651e-04, 3.5162e-04, 1.9834e-02, 5.1477e-04, 1.8521e-04,\n",
       "           6.7082e-03, 3.0580e-03, 1.8268e-02, 3.5100e-04, 8.4662e-05,\n",
       "           1.6910e-03, 1.9066e-04, 5.1159e-04, 1.3158e-04, 3.0142e-04,\n",
       "           2.1091e-03, 5.7776e-04, 1.4519e-03, 9.2884e-04, 7.5352e-04,\n",
       "           3.3285e-04, 2.3081e-04, 1.5445e-03, 8.0725e-04, 3.5818e-02,\n",
       "           2.5109e-04, 5.1538e-04, 2.0158e-03, 3.4406e-04, 1.2995e-03,\n",
       "           5.9270e-04, 8.1094e-04, 2.7647e-03, 2.5042e-04, 3.0878e-04,\n",
       "           3.7999e-04, 2.7530e-03, 3.8281e-03, 1.9866e-03, 1.1851e-03,\n",
       "           3.7179e-04, 3.6195e-04, 1.8692e-04, 3.8539e-04, 5.3359e-04,\n",
       "           8.4119e-05, 1.8799e-04, 1.9249e-04, 2.6108e-04, 2.1922e-04,\n",
       "           1.4526e-04, 2.1380e-04, 2.9787e-04, 1.0889e-03, 7.9526e-04,\n",
       "           7.5903e-04, 2.6936e-04, 2.5292e-04, 3.7375e-04, 1.1672e-04,\n",
       "           9.1091e-04, 4.5439e-04, 9.7898e-05, 6.6255e-03, 8.7455e-05,\n",
       "           1.2028e-04, 1.4746e-04, 2.5227e-04, 4.9529e-04, 1.8685e-04,\n",
       "           2.8140e-04, 1.0434e-03, 8.6738e-04, 3.5677e-04, 2.0114e-03,\n",
       "           1.4435e-04, 3.5058e-04, 9.9924e-05, 7.7762e-04, 2.2097e-04,\n",
       "           4.5146e-04, 1.0545e-03, 2.5793e-03, 1.0184e-03, 1.7489e-03,\n",
       "           7.3245e-04, 1.3293e-03, 2.4725e-04, 1.5393e-04, 1.8201e-04,\n",
       "           3.3296e-04, 1.7216e-03, 3.4098e-04, 2.5938e-04, 6.1189e-03,\n",
       "           1.9313e-04, 1.7933e-04, 6.5820e-04, 5.9219e-04, 3.4221e-04,\n",
       "           2.0343e-04, 7.4458e-03, 1.9368e-03, 2.9357e-04, 2.1302e-04,\n",
       "           1.3125e-04, 1.6152e-03, 1.1886e-04, 2.0837e-04, 5.5315e-04,\n",
       "           2.9718e-04, 3.2024e-04, 7.8343e-04, 1.6938e-04, 2.9740e-04,\n",
       "           4.1973e-04, 1.3765e-04, 1.1047e-03, 1.0544e-03, 4.1139e-04,\n",
       "           7.0690e-04, 3.6529e-04, 3.8566e-04, 5.0750e-04, 3.0638e-04,\n",
       "           4.2946e-04, 1.0057e-03, 4.0614e-04, 2.5058e-04, 3.8621e-04,\n",
       "           1.9872e-04, 6.6105e-04, 4.7795e-04, 1.5028e-04, 2.3763e-04,\n",
       "           1.3005e-03, 2.2635e-04, 1.2437e-04, 1.2833e-04, 2.9955e-04,\n",
       "           3.4815e-04, 1.3366e-03, 3.1699e-04, 4.4050e-04, 2.7909e-03,\n",
       "           4.0430e-04, 1.5629e-03, 3.8854e-04, 6.1414e-03, 4.6337e-04,\n",
       "           3.3438e-03, 5.2258e-04, 3.9012e-04, 1.4858e-04, 7.1497e-04,\n",
       "           2.3213e-04, 6.3055e-03, 1.5425e-04, 2.0560e-04, 1.7041e-04,\n",
       "           4.4091e-04, 1.9679e-04, 1.7005e-04, 8.2237e-04, 4.5949e-04,\n",
       "           6.1687e-03, 7.0009e-04, 2.2412e-04, 8.8209e-03, 3.1668e-04,\n",
       "           1.4066e-03, 3.6265e-03, 8.9512e-04, 1.9001e-03, 2.4245e-04,\n",
       "           2.7945e-04, 8.9606e-04, 4.8796e-03, 6.9449e-04, 2.6604e-03,\n",
       "           8.4579e-04, 3.5453e-04, 1.6923e-04, 9.6110e-05, 8.1736e-04,\n",
       "           1.0565e-03, 3.3308e-04, 3.5772e-04, 1.0581e-04, 4.1592e-04,\n",
       "           7.9282e-04, 6.0681e-04, 1.1496e-02, 1.1851e-03, 4.7443e-03,\n",
       "           4.6628e-04, 2.3963e-04, 2.0412e-04, 5.1172e-03, 1.6650e-03,\n",
       "           5.9049e-04, 1.7078e-04, 2.1048e-04, 8.0283e-04, 5.3370e-04,\n",
       "           2.6315e-04, 5.6750e-04, 1.5212e-04, 7.8185e-04, 3.5881e-04,\n",
       "           1.5969e-04, 1.9459e-04, 2.0475e-04, 3.4326e-04, 1.0763e-03,\n",
       "           1.2990e-04, 1.0664e-03, 7.5923e-03, 9.7937e-04, 1.3952e-04,\n",
       "           1.9564e-04, 1.8400e-04, 3.2824e-04, 8.9170e-04, 4.1280e-04,\n",
       "           2.3766e-04, 3.0878e-03, 9.5938e-04, 2.0227e-04, 5.0701e-04,\n",
       "           6.6916e-04, 7.1657e-02, 4.2402e-04, 3.6385e-04, 2.3262e-04,\n",
       "           2.6861e-04, 1.1652e-03, 8.0951e-03, 2.3617e-04, 3.2954e-03,\n",
       "           1.9118e-03, 1.7972e-04, 1.7348e-04, 1.0221e-03, 1.2441e-04,\n",
       "           1.2747e-04, 1.7242e-03, 1.9545e-03, 1.7803e-04, 1.9442e-04,\n",
       "           5.0531e-04, 1.7308e-04, 5.5213e-04, 1.0789e-04, 1.4130e-04,\n",
       "           1.9050e-04, 6.9154e-04, 1.1301e-03, 1.9876e-04, 9.9929e-04,\n",
       "           2.6480e-04, 1.9940e-03, 1.5238e-04, 1.5179e-04, 1.5611e-04,\n",
       "           2.9746e-04, 1.1365e-03, 1.3325e-03, 6.0948e-04, 2.0795e-04,\n",
       "           2.1181e-04, 3.5408e-04, 5.0945e-04, 6.0442e-03, 3.9385e-04,\n",
       "           2.0939e-04, 2.7464e-04, 2.8360e-04, 1.0167e-03, 2.2730e-04,\n",
       "           5.4411e-04, 1.6863e-04, 1.9152e-04, 1.4730e-04, 8.5689e-04,\n",
       "           1.0246e-04, 2.2202e-04, 1.1002e-03, 3.0358e-04, 6.3861e-04,\n",
       "           1.8742e-03, 3.2899e-04, 3.8727e-04, 1.8438e-04, 2.1674e-03,\n",
       "           2.0471e-03, 1.5317e-04, 9.8839e-05, 5.1276e-04, 1.9246e-04,\n",
       "           4.9319e-04, 3.2362e-04, 2.0033e-03, 1.3332e-04, 2.5760e-04,\n",
       "           1.5452e-04, 2.2851e-04, 3.0872e-04, 2.2842e-04, 6.3981e-04,\n",
       "           1.8397e-03, 1.7687e-04, 1.0395e-04, 1.6421e-03, 9.3696e-04,\n",
       "           2.9621e-04, 3.8890e-04, 6.4594e-04, 2.5525e-04, 1.0583e-03,\n",
       "           3.0593e-04, 2.4556e-03, 2.1143e-04, 1.1569e-04, 4.5156e-04,\n",
       "           1.6372e-04, 1.6683e-04, 1.7506e-04, 5.0317e-04, 2.2043e-04,\n",
       "           4.7086e-04, 2.0593e-04, 4.3748e-03, 2.2359e-04, 4.4379e-04,\n",
       "           4.1296e-03, 9.0938e-05, 2.5768e-04, 1.1943e-03, 3.3785e-04,\n",
       "           4.7753e-04, 3.3425e-04, 7.9480e-04, 8.6789e-02, 2.0253e-04,\n",
       "           2.2052e-04, 2.0564e-04, 4.2228e-04, 1.7624e-03, 1.3692e-04,\n",
       "           2.7997e-04, 8.7891e-05, 4.5001e-04, 1.8077e-04, 1.4607e-03,\n",
       "           1.1878e-03, 1.2868e-03, 1.7974e-04, 1.7482e-03, 1.4598e-04,\n",
       "           3.7123e-04, 1.3552e-04, 1.0488e-04, 1.5219e-04, 1.6387e-04,\n",
       "           3.0180e-04, 3.1399e-02, 1.6032e-04, 2.9210e-04, 2.3530e-04,\n",
       "           3.5210e-04, 1.0526e-03, 1.2061e-04, 6.2200e-04, 9.3537e-04,\n",
       "           1.3984e-04, 6.1509e-04, 6.4491e-03, 5.8931e-04, 2.0358e-04,\n",
       "           5.5535e-03, 3.5130e-04, 2.5246e-03, 8.9595e-05, 5.9206e-04,\n",
       "           1.1754e-04, 2.1738e-04, 1.0791e-04, 9.9250e-05, 1.7450e-04,\n",
       "           1.1601e-04, 2.1902e-04, 6.7470e-04, 1.2992e-04, 1.4889e-04,\n",
       "           1.2616e-04, 1.1082e-04, 9.0029e-05, 1.2688e-04, 4.4998e-03,\n",
       "           3.4146e-04, 2.7996e-04, 5.6244e-04, 3.1051e-04, 2.7447e-04,\n",
       "           2.3007e-04, 1.2576e-04, 4.2960e-02, 2.5493e-04, 1.1015e-04,\n",
       "           3.2130e-04, 7.6260e-04, 2.3613e-04, 1.1916e-04, 6.2629e-04,\n",
       "           6.6056e-03, 2.9438e-04, 8.4253e-04, 4.2949e-04, 6.8689e-04,\n",
       "           3.9570e-04, 1.6934e-03, 1.0286e-01, 1.2662e-03, 1.5735e-03,\n",
       "           2.3185e-03, 3.6924e-04, 6.1599e-04, 8.1294e-04, 4.8758e-04,\n",
       "           5.7970e-04, 2.3823e-04, 2.0692e-03, 2.2476e-04, 7.7335e-04,\n",
       "           3.6200e-04, 4.1330e-03, 2.0239e-03, 1.1485e-04, 3.6274e-04,\n",
       "           1.2475e-03]]], device='cuda:0', grad_fn=<DivBackward0>),\n",
       " tensor([[[0.0122, 0.0197, 0.0141, 0.0097, 0.0164, 0.0191, 0.0162, 0.0264,\n",
       "           0.0291, 0.0327, 0.0315, 0.0263, 0.0233, 0.0295, 0.0241, 0.0427,\n",
       "           0.0408, 0.0439, 0.0503, 0.0498, 0.0351, 0.0776, 0.0202, 0.0161,\n",
       "           0.0199, 0.0209, 0.0223, 0.0308, 0.0426, 0.0190, 0.0202, 0.0203,\n",
       "           0.0146, 0.0102, 0.0143, 0.0162, 0.0163, 0.0128, 0.0130]]],\n",
       "        device='cuda:0', grad_fn=<DivBackward0>))"
      ]
     },
     "execution_count": 123,
     "metadata": {},
     "output_type": "execute_result"
    }
   ],
   "source": [
    "tokens_0, tokens_1 = roberta.myencode_separate(smiles_bpe, protein)\n",
    "predictions, cls_0_attn_1, cls_1_attn_0 = roberta.myextract_features_separate_case_study(tokens_0, tokens_1)\n",
    "predictions, cls_0_attn_1, cls_1_attn_0"
   ]
  },
  {
   "cell_type": "code",
   "execution_count": 124,
   "metadata": {},
   "outputs": [
    {
     "data": {
      "text/plain": [
       "torch.Size([39])"
      ]
     },
     "execution_count": 124,
     "metadata": {},
     "output_type": "execute_result"
    }
   ],
   "source": [
    "cls_1_attn_0 = cls_1_attn_0.squeeze()\n",
    "cls_1_attn_0.size()"
   ]
  },
  {
   "cell_type": "code",
   "execution_count": 125,
   "metadata": {},
   "outputs": [],
   "source": [
    "def del_tensor_element(arr,index):\n",
    "    arr1 = arr[0:index]\n",
    "    arr2 = arr[index+1:]\n",
    "    return torch.cat((arr1,arr2),dim=0)"
   ]
  },
  {
   "cell_type": "code",
   "execution_count": 126,
   "metadata": {},
   "outputs": [
    {
     "data": {
      "text/plain": [
       "39"
      ]
     },
     "execution_count": 126,
     "metadata": {},
     "output_type": "execute_result"
    }
   ],
   "source": [
    "len(cls_1_attn_0)"
   ]
  },
  {
   "cell_type": "code",
   "execution_count": 127,
   "metadata": {},
   "outputs": [
    {
     "name": "stdout",
     "output_type": "stream",
     "text": [
      "CN1CCN(CCCN2c3ccccc3Sc3ccc(Cl)cc32)CC1\n"
     ]
    },
    {
     "data": {
      "text/plain": [
       "38"
      ]
     },
     "execution_count": 127,
     "metadata": {},
     "output_type": "execute_result"
    }
   ],
   "source": [
    "print(smiles_can)\n",
    "len(smiles_can)"
   ]
  },
  {
   "cell_type": "code",
   "execution_count": 128,
   "metadata": {},
   "outputs": [
    {
     "data": {
      "text/plain": [
       "37"
      ]
     },
     "execution_count": 128,
     "metadata": {},
     "output_type": "execute_result"
    }
   ],
   "source": [
    "len(smiles_bpe.split())"
   ]
  },
  {
   "cell_type": "code",
   "execution_count": 129,
   "metadata": {},
   "outputs": [
    {
     "data": {
      "text/plain": [
       "[0, 3, 7, 12, 14, 20, 23, 27, 29, 32, 33, 34, 37, 38]"
      ]
     },
     "execution_count": 129,
     "metadata": {},
     "output_type": "execute_result"
    }
   ],
   "source": [
    "del_indices = []\n",
    "tokens = smiles_bpe.split()\n",
    "del_indices.append(0)\n",
    "for i in range(37):\n",
    "    if not tokens[i].isalpha():\n",
    "        del_indices.append(i + 1)\n",
    "del_indices.append(len(cls_1_attn_0) - 1)\n",
    "del_indices"
   ]
  },
  {
   "cell_type": "code",
   "execution_count": 130,
   "metadata": {},
   "outputs": [
    {
     "data": {
      "text/plain": [
       "tensor([0.0122, 0.0197, 0.0141, 0.0097, 0.0164, 0.0191, 0.0162, 0.0264, 0.0291,\n",
       "        0.0327, 0.0315, 0.0263, 0.0233, 0.0295, 0.0241, 0.0427, 0.0408, 0.0439,\n",
       "        0.0503, 0.0498, 0.0351, 0.0776, 0.0202, 0.0161, 0.0199, 0.0209, 0.0223,\n",
       "        0.0308, 0.0426, 0.0190, 0.0202, 0.0203, 0.0146, 0.0102, 0.0143, 0.0162,\n",
       "        0.0163, 0.0128, 0.0130], device='cuda:0', grad_fn=<SqueezeBackward0>)"
      ]
     },
     "execution_count": 130,
     "metadata": {},
     "output_type": "execute_result"
    }
   ],
   "source": [
    "cls_1_attn_0"
   ]
  },
  {
   "cell_type": "code",
   "execution_count": 131,
   "metadata": {},
   "outputs": [
    {
     "data": {
      "text/plain": [
       "tensor([0.0197, 0.0141, 0.0164, 0.0191, 0.0162, 0.0291, 0.0327, 0.0315, 0.0263,\n",
       "        0.0295, 0.0427, 0.0408, 0.0439, 0.0503, 0.0498, 0.0776, 0.0202, 0.0199,\n",
       "        0.0209, 0.0223, 0.0426, 0.0202, 0.0203, 0.0162, 0.0163],\n",
       "       device='cuda:0', grad_fn=<CatBackward0>)"
      ]
     },
     "execution_count": 131,
     "metadata": {},
     "output_type": "execute_result"
    }
   ],
   "source": [
    "# cls_1_attn_0[del_indices] = 0\n",
    "# cls_1_attn_0\n",
    "for i in reversed(del_indices):\n",
    "    cls_1_attn_0 = del_tensor_element(cls_1_attn_0, i)\n",
    "cls_1_attn_0"
   ]
  },
  {
   "cell_type": "code",
   "execution_count": 132,
   "metadata": {},
   "outputs": [
    {
     "data": {
      "text/plain": [
       "(tensor([0.0776, 0.0503, 0.0498, 0.0439, 0.0427, 0.0426, 0.0408, 0.0327, 0.0315,\n",
       "         0.0295, 0.0291, 0.0263, 0.0223, 0.0209, 0.0203, 0.0202, 0.0202, 0.0199,\n",
       "         0.0197, 0.0191, 0.0164, 0.0163, 0.0162, 0.0162, 0.0141],\n",
       "        device='cuda:0', grad_fn=<SortBackward0>),\n",
       " tensor([15, 13, 14, 12, 10, 20, 11,  6,  7,  9,  5,  8, 19, 18, 22, 21, 16, 17,\n",
       "          0,  3,  2, 24, 23,  4,  1], device='cuda:0'))"
      ]
     },
     "execution_count": 132,
     "metadata": {},
     "output_type": "execute_result"
    }
   ],
   "source": [
    "import torch\n",
    "sorted, indices = torch.sort(cls_1_attn_0, descending=True)\n",
    "sorted, indices"
   ]
  },
  {
   "cell_type": "code",
   "execution_count": 138,
   "metadata": {},
   "outputs": [],
   "source": [
    "from rdkit.Chem import PyMol\n",
    "from rdkit import Chem\n",
    "import sys\n",
    "from IPython.display import SVG\n",
    "from rdkit import rdBase\n",
    "from rdkit.Chem import AllChem, DataStructs\n",
    "from rdkit.Chem.Draw import DrawMorganBit, DrawMorganBits,DrawMorganEnv, IPythonConsole\n",
    "def add_atom_index(mol):\n",
    "    atoms = mol.GetNumAtoms()\n",
    "    for i in range( atoms ):\n",
    "        # mol.GetAtomWithIdx(i).SetProp('molAtomMapNumber', str(mol.GetAtomWithIdx(i).GetIdx()))\n",
    "        mol.GetAtomWithIdx(i).SetProp('molAtomMapNumber', str(i))\n",
    "    return mol,atoms"
   ]
  },
  {
   "cell_type": "code",
   "execution_count": 139,
   "metadata": {},
   "outputs": [
    {
     "data": {
      "text/plain": [
       "'CN1CCN(CCCN2c3ccccc3Sc3ccc(Cl)cc32)CC1'"
      ]
     },
     "execution_count": 139,
     "metadata": {},
     "output_type": "execute_result"
    }
   ],
   "source": [
    "smiles_can"
   ]
  },
  {
   "cell_type": "code",
   "execution_count": 6,
   "metadata": {},
   "outputs": [
    {
     "data": {
      "image/png": "[encoded data removed]",
      "text/plain": [
       "<rdkit.Chem.rdchem.Mol at 0x7fb7ab0c20a0>"
      ]
     },
     "execution_count": 6,
     "metadata": {},
     "output_type": "execute_result"
    }
   ],
   "source": [
    "from rdkit.Chem import Draw\n",
    "mol =Chem.MolFromSmiles(smiles_can)\n",
    "# mol,atoms = add_atom_index(mol)\n",
    "# print(atoms)\n",
    "mol"
   ]
  }
 ],
 "metadata": {
  "interpreter": {
   "hash": "d6ca418a5d9572506ecbcf1506f5bc646d15f67cd2ac4725aab4f1e937c8653e"
  },
  "kernelspec": {
   "display_name": "Python 3.8.12 ('rdkit')",
   "language": "python",
   "name": "python3"
  },
  "language_info": {
   "codemirror_mode": {
    "name": "ipython",
    "version": 3
   },
   "file_extension": ".py",
   "mimetype": "text/x-python",
   "name": "python",
   "nbconvert_exporter": "python",
   "pygments_lexer": "ipython3",
   "version": "3.8.12"
  },
  "orig_nbformat": 4
 },
 "nbformat": 4,
 "nbformat_minor": 2
}
